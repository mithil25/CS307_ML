{
  "nbformat": 4,
  "nbformat_minor": 0,
  "metadata": {
    "colab": {
      "name": "Untitled2.ipynb",
      "provenance": []
    },
    "kernelspec": {
      "name": "python3",
      "display_name": "Python 3"
    }
  },
  "cells": [
    {
      "cell_type": "code",
      "metadata": {
        "id": "tA-5IYPH7y5D"
      },
      "source": [
        "import numpy as np\r\n",
        "import matplotlib.pyplot as plt"
      ],
      "execution_count": null,
      "outputs": []
    },
    {
      "cell_type": "code",
      "metadata": {
        "id": "gHYbWCLX7zyF"
      },
      "source": [
        "mu, sigma = 5, 1\r\n",
        "x = np.random.normal(mu, sigma, 10)"
      ],
      "execution_count": null,
      "outputs": []
    },
    {
      "cell_type": "code",
      "metadata": {
        "colab": {
          "base_uri": "https://localhost:8080/"
        },
        "id": "NRdaj9EJ8Cie",
        "outputId": "61d2c04c-b28a-4731-d81b-fc961b51dcf2"
      },
      "source": [
        "prob = (1/np.sqrt(2*np.pi))*np.exp(0.5*(x-mu)**2)\r\n",
        "likelihood = np.prod(prob)\r\n",
        "print(likelihood)"
      ],
      "execution_count": null,
      "outputs": [
        {
          "output_type": "stream",
          "text": [
            "0.0033507434961821043\n"
          ],
          "name": "stdout"
        }
      ]
    },
    {
      "cell_type": "code",
      "metadata": {
        "colab": {
          "base_uri": "https://localhost:8080/"
        },
        "id": "N-RVCSgS8JVk",
        "outputId": "e4a551d5-f9fd-44c2-b296-4e26814f5c49"
      },
      "source": [
        "a = []\r\n",
        "mean = np.linspace(0,10,50)\r\n",
        "prob = np.zeros(len(mean)).reshape(50,1)\r\n",
        "for i,mu in enumerate(mean):\r\n",
        "    prob[i,0] = np.prod((1/np.sqrt(2*np.pi))*np.exp(0.5*(x-mu)**2))\r\n",
        "    log_prob = np.sum((-0.5*np.sum(x-mu)**2) - 5*np.log(1) - 5*np.log(2*np.pi))\r\n",
        "    a.append(log_prob)\r\n",
        "    likelihood = np.prod(prob)\r\n",
        "#print(prob)"
      ],
      "execution_count": null,
      "outputs": [
        {
          "output_type": "stream",
          "text": [
            "/usr/local/lib/python3.6/dist-packages/numpy/core/fromnumeric.py:87: RuntimeWarning: overflow encountered in reduce\n",
            "  return ufunc.reduce(obj, axis, dtype, out, **passkwargs)\n",
            "/usr/local/lib/python3.6/dist-packages/numpy/core/fromnumeric.py:87: RuntimeWarning: invalid value encountered in reduce\n",
            "  return ufunc.reduce(obj, axis, dtype, out, **passkwargs)\n"
          ],
          "name": "stderr"
        }
      ]
    },
    {
      "cell_type": "code",
      "metadata": {
        "colab": {
          "base_uri": "https://localhost:8080/",
          "height": 282
        },
        "id": "LqMhi3u386RF",
        "outputId": "673d00e0-5c88-4f17-e4ff-8d6802ea689e"
      },
      "source": [
        "plt.plot(mean, a)"
      ],
      "execution_count": null,
      "outputs": [
        {
          "output_type": "execute_result",
          "data": {
            "text/plain": [
              "[<matplotlib.lines.Line2D at 0x7f69798232e8>]"
            ]
          },
          "metadata": {
            "tags": []
          },
          "execution_count": 6
        },
        {
          "output_type": "display_data",
          "data": {
            "image/png": "[encoded data removed]",
            "text/plain": [
              "<Figure size 432x288 with 1 Axes>"
            ]
          },
          "metadata": {
            "tags": [],
            "needs_background": "light"
          }
        }
      ]
    }
  ]
}