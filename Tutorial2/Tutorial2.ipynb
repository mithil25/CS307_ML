{
  "nbformat": 4,
  "nbformat_minor": 0,
  "metadata": {
    "colab": {
      "name": "Untitled3.ipynb",
      "provenance": []
    },
    "kernelspec": {
      "name": "python3",
      "display_name": "Python 3"
    }
  },
  "cells": [
    {
      "cell_type": "code",
      "metadata": {
        "id": "HHWWJ5yB_O3I"
      },
      "source": [
        "import numpy as np\r\n",
        "import matplotlib.pyplot as plt\r\n",
        "import math\r\n"
      ],
      "execution_count": 94,
      "outputs": []
    },
    {
      "cell_type": "code",
      "metadata": {
        "id": "Pa5ZCKLv_sXH"
      },
      "source": [
        "x = [1.0,2.0,3.0]\r\n",
        "y = [1.2,1.9,3.2]\r\n",
        "def calcLogLikelihood(guess, true, n):\r\n",
        "    error = np.array(true)-np.array(guess)\r\n",
        "    sigma = np.std(error)\r\n",
        "    f = ((1.0/(2.0*math.pi*sigma*sigma))**(n/2))* \\\r\n",
        "        np.exp(-1*((np.dot(error.T,error))/(2*sigma*sigma)))\r\n",
        "    return np.log(f)"
      ],
      "execution_count": 95,
      "outputs": []
    },
    {
      "cell_type": "code",
      "metadata": {
        "id": "1izgaX7tAFJz"
      },
      "source": [
        "def myFunction(var):\r\n",
        "    y_guess = []\r\n",
        "    for i in range(0,3):\r\n",
        "      c = var[1]*x[i] + var[0]\r\n",
        "      y_guess.append(c)\r\n",
        "    f = calcLogLikelihood(y_guess, y, float(len(y_guess)))\r\n",
        "    return (-1*f)"
      ],
      "execution_count": 96,
      "outputs": []
    },
    {
      "cell_type": "code",
      "metadata": {
        "colab": {
          "base_uri": "https://localhost:8080/"
        },
        "id": "fmNMs0lHAW9r",
        "outputId": "ae6afdd8-f6e3-492b-b04b-3f7a1ae509bb"
      },
      "source": [
        "nvar = 2\r\n",
        "var = np.zeros(nvar)\r\n",
        "var[0] = -20\r\n",
        "var[1] = 23\r\n",
        "from scipy.optimize import minimize\r\n",
        "res = minimize(myFunction, var, method='BFGS',options={'disp': True})"
      ],
      "execution_count": 97,
      "outputs": [
        {
          "output_type": "stream",
          "text": [
            "Optimization terminated successfully.\n",
            "         Current function value: -1.611219\n",
            "         Iterations: 20\n",
            "         Function evaluations: 156\n",
            "         Gradient evaluations: 39\n"
          ],
          "name": "stdout"
        }
      ]
    },
    {
      "cell_type": "code",
      "metadata": {
        "colab": {
          "base_uri": "https://localhost:8080/"
        },
        "id": "1Az830y0E420",
        "outputId": "a719beb3-c221-4b9f-96cc-4bc08b1d1530"
      },
      "source": [
        "print(res)"
      ],
      "execution_count": 98,
      "outputs": [
        {
          "output_type": "stream",
          "text": [
            "      fun: -1.6112189085281368\n",
            " hess_inv: array([[ 0.04773174, -0.02045166],\n",
            "       [-0.02045166,  0.01019154]])\n",
            "      jac: array([-2.59280205e-06, -3.27825546e-07])\n",
            "  message: 'Optimization terminated successfully.'\n",
            "     nfev: 156\n",
            "      nit: 20\n",
            "     njev: 39\n",
            "   status: 0\n",
            "  success: True\n",
            "        x: array([0.09999994, 1.00000002])\n"
          ],
          "name": "stdout"
        }
      ]
    },
    {
      "cell_type": "code",
      "metadata": {
        "colab": {
          "base_uri": "https://localhost:8080/"
        },
        "id": "VmO5r2iRKRm0",
        "outputId": "42baa3f4-f594-400a-81f9-9fb2f9661b3c"
      },
      "source": [
        "print(res['x'][0])"
      ],
      "execution_count": 99,
      "outputs": [
        {
          "output_type": "stream",
          "text": [
            "0.09999993837354683\n"
          ],
          "name": "stdout"
        }
      ]
    },
    {
      "cell_type": "code",
      "metadata": {
        "colab": {
          "base_uri": "https://localhost:8080/",
          "height": 369
        },
        "id": "zvf2T2S2FIEL",
        "outputId": "b48cdc6b-566e-4c32-f399-7585c5797ccf"
      },
      "source": [
        "import seaborn as sns\r\n",
        "%matplotlib inline\r\n",
        "y_pred = []\r\n",
        "for i in range(0,3):\r\n",
        "  c = res['x'][1]*x[i] + res['x'][0]\r\n",
        "  y_pred.append(c)\r\n",
        "\r\n",
        "sns.scatterplot(x,y,color='red')\r\n",
        "sns.lineplot(x,y_pred)"
      ],
      "execution_count": 100,
      "outputs": [
        {
          "output_type": "stream",
          "text": [
            "/usr/local/lib/python3.6/dist-packages/seaborn/_decorators.py:43: FutureWarning: Pass the following variables as keyword args: x, y. From version 0.12, the only valid positional argument will be `data`, and passing other arguments without an explicit keyword will result in an error or misinterpretation.\n",
            "  FutureWarning\n",
            "/usr/local/lib/python3.6/dist-packages/seaborn/_decorators.py:43: FutureWarning: Pass the following variables as keyword args: x, y. From version 0.12, the only valid positional argument will be `data`, and passing other arguments without an explicit keyword will result in an error or misinterpretation.\n",
            "  FutureWarning\n"
          ],
          "name": "stderr"
        },
        {
          "output_type": "execute_result",
          "data": {
            "text/plain": [
              "<matplotlib.axes._subplots.AxesSubplot at 0x7f1052f86ef0>"
            ]
          },
          "metadata": {
            "tags": []
          },
          "execution_count": 100
        },
        {
          "output_type": "display_data",
          "data": {
            "image/png": "[encoded data removed]",
            "text/plain": [
              "<Figure size 432x288 with 1 Axes>"
            ]
          },
          "metadata": {
            "tags": [],
            "needs_background": "light"
          }
        }
      ]
    }
  ]
}